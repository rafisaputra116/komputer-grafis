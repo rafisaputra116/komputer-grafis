{
  "nbformat": 4,
  "nbformat_minor": 0,
  "metadata": {
    "colab": {
      "provenance": [],
      "authorship_tag": "ABX9TyPizprjpadMRpfruKaSLaw1",
      "include_colab_link": true
    },
    "kernelspec": {
      "name": "python3",
      "display_name": "Python 3"
    },
    "language_info": {
      "name": "python"
    }
  },
  "cells": [
    {
      "cell_type": "markdown",
      "metadata": {
        "id": "view-in-github",
        "colab_type": "text"
      },
      "source": [
        "<a href=\"https://colab.research.google.com/github/rafisaputra116/komputer-grafis/blob/main/prak2.ipynb\" target=\"_parent\"><img src=\"https://colab.research.google.com/assets/colab-badge.svg\" alt=\"Open In Colab\"/></a>"
      ]
    },
    {
      "cell_type": "code",
      "execution_count": null,
      "metadata": {
        "id": "36YVclHJfEYa"
      },
      "outputs": [],
      "source": []
    },
    {
      "cell_type": "code",
      "source": [
        "\"\"\" CIRCLES \"\"\"\n",
        "import numpy as np\n",
        "import matplotlib.pyplot as plt\n",
        "\n",
        "plt.axis([-75, 75, 50, -50])\n",
        "plt.axis('on')\n",
        "plt.grid(True)\n",
        "\n",
        "# Sumbu koordinat\n",
        "plt.arrow(0, 0, 20, 0, head_length=4, head_width=3, color='k')\n",
        "plt.arrow(0, 0, 0, 20, head_length=4, head_width=3, color='k')\n",
        "plt.text(16, -3, 'x')\n",
        "plt.text(-5, 17, 'y')\n",
        "\n",
        "# --- green circle\n",
        "xc = 0\n",
        "yc = 0\n",
        "r = 40\n",
        "pi = np.pi  # Perbaikan dari 'pi=o*np.pi/180' yang salah\n",
        "theta = np.linspace(0, 2*pi, 100)\n",
        "x = xc + r * np.cos(theta)\n",
        "y = yc + r * np.sin(theta)\n",
        "plt.plot(x, y, color='g')\n",
        "\n",
        "plt.show()\n",
        "p2 = 360 * np.pi / 180  # Perbaikan dari np.p1 menjadi np.pi\n",
        "dp = (p2 - p1) / 100\n",
        "xlast = xc + r * np.cos(p1)\n",
        "ylast = yc + r * np.sin(p1)\n",
        "\n",
        "for p in np.arange(p1, p2 + dp, dp):\n",
        "    x = xc + r * np.cos(p)\n",
        "    y = yc + r * np.sin(p)\n",
        "\n",
        "    if p > 90 * np.pi / 180 and p < 270 * np.pi / 180:  # Perbaikan dari np.p1 menjadi np.pi\n",
        "        plt.plot([xlast, x], [ylast, y], color='g', linestyle=':')\n",
        "    else:\n",
        "        plt.plot([xlast, x], [ylast, y], color='g')\n",
        "\n",
        "    xlast = x\n",
        "    ylast = y\n",
        "\n",
        "plt.scatter(xc, yc, s=15, color='g')\n",
        "# red circle\n",
        "xc = -20\n",
        "yc = -20\n",
        "dr = 10\n",
        "\n",
        "p1=0*np.p1/180\n",
        "p2=360*np.p1/180\n",
        "dp=(p2-p1)/100\n",
        "xlast=xc+r1*np.cos(p1)\n",
        "ylast=yc+r1*np.sin(p1)\n",
        "for r in np.arange(r1,r2,dr):\n",
        "    for p in np.arange(p1,p2+dp,dp):\n",
        "    x=xc+r*np.cos(p)\n",
        "    y=yc+r*np.sin(p)\n",
        "    plt.plot([xlast,x],[ylast,y],linewidth=2,color=(0,0,.8)\n",
        "        xlast=x\n",
        "        xlast=y"
      ],
      "metadata": {
        "id": "THm8mxnCfU0Q",
        "outputId": "0ca1fe35-6a95-415d-d685-1962e35986a5",
        "colab": {
          "base_uri": "https://localhost:8080/",
          "height": 106
        }
      },
      "execution_count": null,
      "outputs": [
        {
          "output_type": "error",
          "ename": "IndentationError",
          "evalue": "expected an indented block after 'for' statement on line 55 (<ipython-input-2-c5232ac496ff>, line 56)",
          "traceback": [
            "\u001b[0;36m  File \u001b[0;32m\"<ipython-input-2-c5232ac496ff>\"\u001b[0;36m, line \u001b[0;32m56\u001b[0m\n\u001b[0;31m    x=xc+r*np.cos(p)\u001b[0m\n\u001b[0m    ^\u001b[0m\n\u001b[0;31mIndentationError\u001b[0m\u001b[0;31m:\u001b[0m expected an indented block after 'for' statement on line 55\n"
          ]
        }
      ]
    },
    {
      "cell_type": "code",
      "source": [
        "\"\"\"\n",
        "ELLIPSES\n",
        "\"\"\"\n",
        "\n",
        "import numpy as np\n",
        "import matplotlib.pyplot as plt\n",
        "\n",
        "plt.axis([-75,75,50,-50])\n",
        "\n",
        "plt.axis('on')\n",
        "plt.grid(True)\n",
        "\n",
        "plt.arrow(0,0,60,0,head_length=4,head_width=3,color='k')\n",
        "plt.arrow(0,0,0,45,head_length=4,head_width=3,color='k')\n",
        "\n",
        "plt.text(58,-3,'x')\n",
        "plt.text(-5,44,'y')\n",
        "\n",
        "#    red ellipse\n",
        "a=40\n",
        "b=20.\n",
        "p1=0\n",
        "p2=180*np.pi/180\n",
        "dp=.2*np.pi/180\n",
        "\n",
        "xplast=a\n",
        "yplast=0\n",
        "for p in np.arange(p1,p2,dp):\n",
        "    xp=np.abs(a*b*(b*b+a*a*(np.tan(p))**2.)**-.5)\n",
        "    yp=np.abs(a*b*(a*a+b*b/(np.tan(p)**2.))**-.5)\n",
        "    if p > np.pi/2:\n",
        "        xp=-xp\n",
        "    plt.plot([xplast,xp],[yplast,yp],color='r')\n",
        "    plt.plot([xplast,xp],[-yplast,-yp],color='r')\n",
        "    xplast=xp\n",
        "    yplast=yp\n",
        "\n",
        "  #______green ellipse\n",
        "a=20.\n",
        "b=40.\n",
        "xp1=-a\n",
        "xp2=a\n",
        "dx=.1\n",
        "\n",
        "xplast=-a\n",
        "yplast=0\n",
        "for xp in np.arange(xp1,xp2,dx):\n",
        "    yp=b*(1-xp**2./a**2.)**.5\n",
        "    plt.plot([xplast,xp],[yplast,yp],linewidth=1,color='g')\n",
        "    plt.plot([xplast,xp],[-yplast,-yp],linewidth=1,color='g')\n",
        "    xplast=xp\n",
        "    yplast=yp\n",
        "\n",
        "plt.plot([xplast,a],[yplast,0],linewidth=1,color='g')\n",
        "plt.plot([xplast,a],[-yplast,0],linewidth=1,color='g')\n",
        "\n",
        "#    blue ellipse\n",
        "a=5.\n",
        "b=15.\n",
        "p1=0\n",
        "p2=180*np.pi/180\n",
        "dp=-.2*np.pi/180\n",
        "\n",
        "for p in np.arange(p1,p2,dp):\n",
        "    xp=np.abs(a*b*(b*b+a*a*(np.tan(p))**2.))**-.5)\n",
        "    yp=np.abs(a*b*(a*a+b*b/(np.tan(p)**2.))**-.5)\n",
        "    if p > np.pi/2:\n",
        "        xp=-xp\n",
        "    plt.plot([xp,xp],[yp,-yp],linewidth=1,color='b')\n",
        "\n",
        "plt.show()"
      ],
      "metadata": {
        "colab": {
          "base_uri": "https://localhost:8080/",
          "height": 106
        },
        "id": "SDi6jpijKEEK",
        "outputId": "dfe2e1b9-7c99-4a23-bc39-ba940c464566"
      },
      "execution_count": null,
      "outputs": [
        {
          "output_type": "error",
          "ename": "SyntaxError",
          "evalue": "unmatched ')' (<ipython-input-5-0cc224c7e1ab>, line 65)",
          "traceback": [
            "\u001b[0;36m  File \u001b[0;32m\"<ipython-input-5-0cc224c7e1ab>\"\u001b[0;36m, line \u001b[0;32m65\u001b[0m\n\u001b[0;31m    xp=np.abs(a*b*(b*b+a*a*(np.tan(p))**2.))**-.5)\u001b[0m\n\u001b[0m                                                 ^\u001b[0m\n\u001b[0;31mSyntaxError\u001b[0m\u001b[0;31m:\u001b[0m unmatched ')'\n"
          ]
        }
      ]
    }
  ]
}